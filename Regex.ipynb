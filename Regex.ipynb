{
 "cells": [
  {
   "cell_type": "markdown",
   "metadata": {},
   "source": [
    "# Домашнее задание к лекции \"Регулярные выражения\"\n",
    "\n",
    "Внимание! При реализации всех заданий необходимо использовать именно функционал регулярных выражений для обработки текста."
   ]
  },
  {
   "cell_type": "markdown",
   "metadata": {},
   "source": [
    "## Задание 1\n",
    "\n",
    "Напишите функцию, которая принимает на вход строку и проверяет является ли она валидным транспортным номером (1 буква, 3 цифры, 2 буквы, 2-3 цифры). Обратите внимание, что не все буквы кириллического алфавита используются в транспортных номерах.\n",
    "\n",
    "Если номер валиден, то функция должна возвращать отдельно номер и регион.\n",
    "\n",
    "Примеры работы программы:  \n",
    "\n",
    "1. `car_id = 'АВ222С96'`\n",
    "\n",
    "Результат: \n",
    "`Номер АВ222С валиден. Регион: 96`\n",
    "\n",
    "2. `car_id = 'АБ22ВВ193'`\n",
    "\n",
    "Результат: \n",
    "`Номер не валиден`"
   ]
  },
  {
   "cell_type": "code",
   "execution_count": 1,
   "metadata": {},
   "outputs": [],
   "source": [
    "import re"
   ]
  },
  {
   "cell_type": "code",
   "execution_count": 2,
   "metadata": {},
   "outputs": [],
   "source": [
    "valid_number = r'([А, В, Е, К, М, Н, О, Р, С, Т, У, Х]{2}\\d{3}[А|В|Е|К|М|Н|О|Р|С|Т|У|Х])(\\d{2})'"
   ]
  },
  {
   "cell_type": "code",
   "execution_count": 3,
   "metadata": {},
   "outputs": [
    {
     "name": "stdout",
     "output_type": "stream",
     "text": [
      "Номер АВ222С валиден. Регион: 96\n"
     ]
    }
   ],
   "source": [
    "car_id = 'АВ222С96'\n",
    "car_result = re.search(valid_number, car_id)\n",
    "if car_result:\n",
    "    print('Номер', car_result.group(1), 'валиден. Регион:', car_result.group(2))\n",
    "else:\n",
    "    print('Номер не валиден')"
   ]
  },
  {
   "cell_type": "code",
   "execution_count": 4,
   "metadata": {},
   "outputs": [
    {
     "name": "stdout",
     "output_type": "stream",
     "text": [
      "Номер не валиден\n"
     ]
    }
   ],
   "source": [
    "car_id = 'АБ22ВВ193'\n",
    "car_result = re.search(valid_number, car_id)\n",
    "if car_result:\n",
    "    print('Номер', car_result.group(1), 'валиден. Регион:', car_result.group(2))\n",
    "else:\n",
    "    print('Номер не валиден')"
   ]
  },
  {
   "cell_type": "markdown",
   "metadata": {},
   "source": [
    "## Задание 2\n",
    "\n",
    "Напишите функцию, которая будет удалять все последовательные повторы слов из заданной строки при помощи регулярных выражений.\n",
    "\n",
    "Пример работы программы:  \n",
    "\n",
    "`some_string = 'Напишите функцию функцию, которая будет будет будет будет удалять все все все все последовательные повторы слов из из из из заданной строки строки при помощи регулярных выражений'`\n",
    "\n",
    "Результат: \n",
    "`Напишите функцию, которая будет удалять все последовательные повторы слов из заданной строки при помощи регулярных выражений.`"
   ]
  },
  {
   "cell_type": "code",
   "execution_count": 5,
   "metadata": {},
   "outputs": [],
   "source": [
    "some_string = 'Напишите функцию функцию, которая будет будет будет будет удалять все все все все последовательные повторы слов из из из из заданной строки строки при помощи регулярных выражений'"
   ]
  },
  {
   "cell_type": "code",
   "execution_count": 6,
   "metadata": {},
   "outputs": [
    {
     "data": {
      "text/plain": [
       "'Напишите функцию, которая будет удалять все последовательные повторы слов из заданной строки при помощи регулярных выражений'"
      ]
     },
     "execution_count": 6,
     "metadata": {},
     "output_type": "execute_result"
    }
   ],
   "source": [
    "re.sub(r'\\b([^\\W\\d]+)(\\s+\\1)+\\b', r'\\1', some_string)\n"
   ]
  },
  {
   "cell_type": "markdown",
   "metadata": {},
   "source": [
    "## Задание 3\n",
    "\n",
    "Напишите функцию, которая будет возвращать акроним по переданной в нее строке со словами.\n",
    "\n",
    "Примеры работы программы:  \n",
    "\n",
    "1. `some_words = 'Информационные технологии'`\n",
    "\n",
    "Результат: \n",
    "`ИТ`\n",
    "\n",
    "2. `some_words = 'Near Field Communication'`\n",
    "\n",
    "Результат: \n",
    "`NFC`"
   ]
  },
  {
   "cell_type": "code",
   "execution_count": 39,
   "metadata": {},
   "outputs": [],
   "source": [
    "some_words = 'Информационные технологии'"
   ]
  },
  {
   "cell_type": "code",
   "execution_count": 35,
   "metadata": {},
   "outputs": [
    {
     "name": "stdout",
     "output_type": "stream",
     "text": [
      "ИТ\n"
     ]
    }
   ],
   "source": [
    "regex_some_words = r'\\b[а-яёА-ЯЁ|a-zA-Z]'\n",
    "result = re.findall(regex_some_words, some_words)\n",
    "print(''.join(result).upper())"
   ]
  },
  {
   "cell_type": "code",
   "execution_count": 36,
   "metadata": {},
   "outputs": [
    {
     "name": "stdout",
     "output_type": "stream",
     "text": [
      "NFC\n"
     ]
    }
   ],
   "source": [
    "some_words = 'Near Field Communication'\n",
    "regex_some_words = r'\\b[а-яёА-ЯЁ|a-zA-Z]'\n",
    "result = re.findall(regex_some_words, some_words)\n",
    "print(''.join(result).upper())"
   ]
  },
  {
   "cell_type": "code",
   "execution_count": 41,
   "metadata": {},
   "outputs": [
    {
     "name": "stdout",
     "output_type": "stream",
     "text": [
      "ИТ\n"
     ]
    }
   ],
   "source": [
    "# или так тоже можно\n",
    "regex_some_words = r'\\b\\w' \n",
    "result = re.findall(regex_some_words, some_words)\n",
    "print(''.join(result).upper())"
   ]
  },
  {
   "cell_type": "code",
   "execution_count": null,
   "metadata": {},
   "outputs": [],
   "source": [
    "# или так тоже можно\n",
    "def acronym(word):\n",
    "return re.sub(r\"(\\w)\\w+\\s?\", r\"\\1\", word).upper()"
   ]
  },
  {
   "cell_type": "markdown",
   "metadata": {},
   "source": [
    "## Задание 4\n",
    "\n",
    "Напишите функцию, которая будет принимать на вход список email-адресов и выводить их распределение по доменным зонам.\n",
    "\n",
    "Пример работы программы:  \n",
    "\n",
    "`emails = ['test@gmail.com, xyz@test.in, test@ya.ru, xyz@mail.ru, xyz@ya.ru', xyz@gmail.com]`\n",
    "\n",
    "Результат: \n",
    "```\n",
    "gmail.com: 2\n",
    "test.in: 1 \n",
    "ya.ru: 2 \n",
    "mail.ru: 1\n",
    "```"
   ]
  },
  {
   "cell_type": "code",
   "execution_count": 27,
   "metadata": {},
   "outputs": [],
   "source": [
    "emails = ['test@gmail.com', 'xyz@test.in', 'test@ya.ru', 'xyz@mail.ru', 'xyz@ya.ru', 'xyz@gmail.com']"
   ]
  },
  {
   "cell_type": "code",
   "execution_count": 28,
   "metadata": {},
   "outputs": [],
   "source": [
    "gmail_pattern = r'\\w+@gmail.com'\n",
    "test_pattern = r'\\w+@test.in'\n",
    "ya_pattern = r'\\w+@ya.ru'\n",
    "mail_pattern = r'\\w+@mail.ru'"
   ]
  },
  {
   "cell_type": "code",
   "execution_count": 30,
   "metadata": {},
   "outputs": [
    {
     "name": "stdout",
     "output_type": "stream",
     "text": [
      "gmail.com: 2\n",
      "test.in: 1\n",
      "ya.ru: 2\n",
      "mail.ru: 1\n"
     ]
    }
   ],
   "source": [
    "gmail = 0\n",
    "test = 0\n",
    "ya = 0\n",
    "mail = 0\n",
    "\n",
    "for domain in emails:\n",
    "    if re.findall(gmail_pattern, domain):\n",
    "        gmail += 1\n",
    "    if re.findall(test_pattern, domain):\n",
    "        test += 1\n",
    "    if re.findall(ya_pattern, domain):\n",
    "        ya += 1\n",
    "    if re.findall(mail_pattern, domain):\n",
    "        mail += 1\n",
    "        \n",
    "print('gmail.com:', gmail)\n",
    "print('test.in:', test)\n",
    "print('ya.ru:', ya)\n",
    "print('mail.ru:', mail)"
   ]
  },
  {
   "cell_type": "code",
   "execution_count": null,
   "metadata": {},
   "outputs": [],
   "source": [
    "# или так\n",
    "def count_domains(emails):\n",
    "result = r'(\\w*\\d*)@(\\w*\\.\\w*)'\n",
    "domains = [re.search(result, email).group(2) for email in emails]\n",
    "for domain in set(domains):\n",
    "print(f\"{domain}: {domains.count(domain)}\")"
   ]
  },
  {
   "cell_type": "markdown",
   "metadata": {},
   "source": [
    "## Задание 5 (необязательное)\n",
    "\n",
    "Напишите функцию, которая будет подсчитывать сколько слов начинается на гласные, а сколько на согласные буквы в тексте (текст может быть написан как с использованием букв кириллицы, так и латиницы).\n",
    "\n",
    "Пример работы программы:  \n",
    "\n",
    "`some_text = 'Эталонной реализацией Python является интерпретатор CPython, поддерживающий большинство активно используемых платформ. Он распространяется под свободной лицензией Python Software Foundation License, позволяющей использовать его без ограничений в любых приложениях, включая проприетарные.'`\n",
    "\n",
    "Результат: \n",
    "```\n",
    "Слов на гласные буквы: 9\n",
    "Слов на согласные буквы: 21 \n",
    "```"
   ]
  },
  {
   "cell_type": "code",
   "execution_count": 136,
   "metadata": {},
   "outputs": [],
   "source": [
    "some_text = 'Эталонной реализацией Python является интерпретатор CPython, поддерживающий большинство активно используемых платформ. Он распространяется под свободной лицензией Python Software Foundation License, позволяющей использовать его без ограничений в любых приложениях, включая проприетарные.'"
   ]
  },
  {
   "cell_type": "code",
   "execution_count": 165,
   "metadata": {},
   "outputs": [],
   "source": [
    "regex_some_text = r'\\b\\w' \n",
    "letters = re.findall(regex_some_text, some_text)\n",
    "\n",
    "list_letters = []\n",
    "\n",
    "for letter in letters:\n",
    "    list_letters.append(letter.lower())"
   ]
  },
  {
   "cell_type": "code",
   "execution_count": 166,
   "metadata": {},
   "outputs": [],
   "source": [
    "vowels = ['а', 'у', 'о', 'ы', 'и', 'э', 'я', 'ю', 'ё', 'е', 'a', 'e', 'i', 'o', 'u']\n",
    "consonants = ['б', 'в', 'г', 'д', 'ж', 'з', 'й', 'к', 'л', 'м', 'н', 'п', 'р', 'с', 'т', 'ф', 'х', 'ц', 'ч', 'ш', 'щ', 'b', 'c', 'd', 'f', 'g', 'h', 'j', 'k', 'l', 'm', 'n', 'p', 'q', 'r', 's', 't', 'v', 'w', 'x', 'y', 'z']"
   ]
  },
  {
   "cell_type": "code",
   "execution_count": 168,
   "metadata": {},
   "outputs": [
    {
     "name": "stdout",
     "output_type": "stream",
     "text": [
      "Слов на гласные буквы: 9\n",
      "Слов на согласные буквы: 21\n"
     ]
    }
   ],
   "source": [
    "count_vowels = 0\n",
    "count_consonants = 0\n",
    "\n",
    "for el in list_letters:\n",
    "    if el in vowels:\n",
    "        count_vowels += 1\n",
    "    if el in consonants:\n",
    "        count_consonants += 1\n",
    "    \n",
    "print('Слов на гласные буквы:', count_vowels)\n",
    "print('Слов на согласные буквы:', count_consonants)"
   ]
  },
  {
   "cell_type": "code",
   "execution_count": null,
   "metadata": {},
   "outputs": [],
   "source": [
    "# оптимизированный вариант\n",
    "def counter(text): \n",
    "    consonants = re.findall(r'(?i)(\\b[аоиеёэыуюяaeiou])', text) \n",
    "    vowel = re.findall(r'(?i)(\\b[^аоиеёэыуюяaeiou\\W])', text) \n",
    "    print(f'Слов на гласные буквы: {len(consonants)}') \n",
    "    print(f'Слов на согласные буквы: {len(vowel)}') counter(some_text)"
   ]
  },
  {
   "cell_type": "markdown",
   "metadata": {},
   "source": [
    "## Задание 6 (необязательное)\n",
    "Напишите функцию, которая будет проверять номер сотового телефона на валидность, если он валиден, то переводить его в формат:   \n",
    "+7-xxx-xxx-xx-xx  \n",
    "Постарайтесь предусмотреть как можно больше адекватных форматов изначального ввода номера.\n",
    "Примеры работы программы:  \n",
    "\n",
    "1. `phone = '+7 955 555-55-55'`\n",
    "\n",
    "Результат: \n",
    "`+7-950-555-55-55`\n",
    "\n",
    "2. `phone = '8(955)555-55-55'`\n",
    "\n",
    "Результат: \n",
    "`+7-950-555-55-55`\n",
    "\n",
    "3. `phone = '+7 955 555 55 55'`\n",
    "\n",
    "Результат: \n",
    "`+7-950-555-55-55`\n",
    "\n",
    "4. `phone = '7(955) 555-55-55'`\n",
    "\n",
    "Результат: \n",
    "`+7-950-555-55-55`\n",
    "\n",
    "5. `phone = '423-555-55-5555'`\n",
    "\n",
    "Результат: \n",
    "`Номер не валиден`\n",
    "\n",
    "6. `phone = '123-456-789'`\n",
    "\n",
    "Результат: \n",
    "`Номер не валиден`"
   ]
  },
  {
   "cell_type": "code",
   "execution_count": 117,
   "metadata": {},
   "outputs": [],
   "source": [
    "phone = '+7 955 555-55-55'"
   ]
  },
  {
   "cell_type": "code",
   "execution_count": 118,
   "metadata": {},
   "outputs": [
    {
     "name": "stdout",
     "output_type": "stream",
     "text": [
      "+7-955-555-55-55\n"
     ]
    }
   ],
   "source": [
    "phone_pattern = r'(8|7|\\+7)(\\s|.|.\\s)(\\d{3})(\\s|.|.\\s)(\\d{3})(\\s|\\-)(\\d{2})(\\s|\\-)(\\d{2})'\n",
    "\n",
    "valid_pattern = r'+7-\\3-\\5-\\7-\\9'\n",
    "\n",
    "if re.findall(phone_pattern, phone):\n",
    "    print(re.sub(phone_pattern, valid_pattern, phone))\n",
    "else:\n",
    "    print('Номер не валиден')"
   ]
  },
  {
   "cell_type": "code",
   "execution_count": 119,
   "metadata": {},
   "outputs": [],
   "source": [
    "phone = '8(955)555-55-55'"
   ]
  },
  {
   "cell_type": "code",
   "execution_count": 120,
   "metadata": {},
   "outputs": [
    {
     "name": "stdout",
     "output_type": "stream",
     "text": [
      "+7-955-555-55-55\n"
     ]
    }
   ],
   "source": [
    "phone_pattern = r'(8|7|\\+7)(\\s|.|.\\s)(\\d{3})(\\s|.|.\\s)(\\d{3})(\\s|\\-)(\\d{2})(\\s|\\-)(\\d{2})'\n",
    "\n",
    "valid_pattern = r'+7-\\3-\\5-\\7-\\9'\n",
    "\n",
    "if re.findall(phone_pattern, phone):\n",
    "    print(re.sub(phone_pattern, valid_pattern, phone))\n",
    "else:\n",
    "    print('Номер не валиден')"
   ]
  },
  {
   "cell_type": "code",
   "execution_count": 121,
   "metadata": {},
   "outputs": [],
   "source": [
    "phone = '+7 955 555 55 55'"
   ]
  },
  {
   "cell_type": "code",
   "execution_count": 122,
   "metadata": {},
   "outputs": [
    {
     "name": "stdout",
     "output_type": "stream",
     "text": [
      "+7-955-555-55-55\n"
     ]
    }
   ],
   "source": [
    "phone_pattern = r'(8|7|\\+7)(\\s|.|.\\s)(\\d{3})(\\s|.|.\\s)(\\d{3})(\\s|\\-)(\\d{2})(\\s|\\-)(\\d{2})'\n",
    "\n",
    "valid_pattern = r'+7-\\3-\\5-\\7-\\9'\n",
    "\n",
    "if re.findall(phone_pattern, phone):\n",
    "    print(re.sub(phone_pattern, valid_pattern, phone))\n",
    "else:\n",
    "    print('Номер не валиден')"
   ]
  },
  {
   "cell_type": "code",
   "execution_count": 123,
   "metadata": {},
   "outputs": [],
   "source": [
    "phone = '7(955) 555-55-55'"
   ]
  },
  {
   "cell_type": "code",
   "execution_count": 124,
   "metadata": {},
   "outputs": [
    {
     "name": "stdout",
     "output_type": "stream",
     "text": [
      "+7-955-555-55-55\n"
     ]
    }
   ],
   "source": [
    "phone_pattern = r'(8|7|\\+7)(\\s|.|.\\s)(\\d{3})(\\s|.|.\\s)(\\d{3})(\\s|\\-)(\\d{2})(\\s|\\-)(\\d{2})'\n",
    "\n",
    "valid_pattern = r'+7-\\3-\\5-\\7-\\9'\n",
    "\n",
    "if re.findall(phone_pattern, phone):\n",
    "    print(re.sub(phone_pattern, valid_pattern, phone))\n",
    "else:\n",
    "    print('Номер не валиден')"
   ]
  },
  {
   "cell_type": "code",
   "execution_count": 125,
   "metadata": {},
   "outputs": [],
   "source": [
    "phone = '423-555-55-5555'"
   ]
  },
  {
   "cell_type": "code",
   "execution_count": 126,
   "metadata": {},
   "outputs": [
    {
     "name": "stdout",
     "output_type": "stream",
     "text": [
      "Номер не валиден\n"
     ]
    }
   ],
   "source": [
    "phone_pattern = r'(8|7|\\+7)(\\s|.|.\\s)(\\d{3})(\\s|.|.\\s)(\\d{3})(\\s|\\-)(\\d{2})(\\s|\\-)(\\d{2})'\n",
    "\n",
    "valid_pattern = r'+7-\\3-\\5-\\7-\\9'\n",
    "\n",
    "if re.findall(phone_pattern, phone):\n",
    "    print(re.sub(phone_pattern, valid_pattern, phone))\n",
    "else:\n",
    "    print('Номер не валиден')"
   ]
  },
  {
   "cell_type": "code",
   "execution_count": 127,
   "metadata": {},
   "outputs": [],
   "source": [
    "phone = '123-456-789'"
   ]
  },
  {
   "cell_type": "code",
   "execution_count": 128,
   "metadata": {},
   "outputs": [
    {
     "name": "stdout",
     "output_type": "stream",
     "text": [
      "Номер не валиден\n"
     ]
    }
   ],
   "source": [
    "phone_pattern = r'(8|7|\\+7)(\\s|.|.\\s)(\\d{3})(\\s|.|.\\s)(\\d{3})(\\s|\\-)(\\d{2})(\\s|\\-)(\\d{2})'\n",
    "\n",
    "valid_pattern = r'+7-\\3-\\5-\\7-\\9'\n",
    "\n",
    "if re.findall(phone_pattern, phone):\n",
    "    print(re.sub(phone_pattern, valid_pattern, phone))\n",
    "else:\n",
    "    print('Номер не валиден')"
   ]
  }
 ],
 "metadata": {
  "kernelspec": {
   "display_name": "Python 3",
   "language": "python",
   "name": "python3"
  },
  "language_info": {
   "codemirror_mode": {
    "name": "ipython",
    "version": 3
   },
   "file_extension": ".py",
   "mimetype": "text/x-python",
   "name": "python",
   "nbconvert_exporter": "python",
   "pygments_lexer": "ipython3",
   "version": "3.8.5"
  }
 },
 "nbformat": 4,
 "nbformat_minor": 2
}
